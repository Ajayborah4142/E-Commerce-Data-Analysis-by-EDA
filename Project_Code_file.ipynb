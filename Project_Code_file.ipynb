{
 "cells": [
  {
   "cell_type": "markdown",
   "id": "15419420",
   "metadata": {},
   "source": [
    "## Problem Statement –: e-Commerce/Retail\n"
   ]
  },
  {
   "cell_type": "markdown",
   "id": "78c4928f",
   "metadata": {},
   "source": [
    "### Title: Customer Feedback Analysis: Identifying Service Gaps and Improvement Opportunities\n",
    "#### 📌 Context:\n",
    "\n",
    "This project analyzes customer feedback data to uncover key patterns in satisfaction and dissatisfaction. The goal is to understand what customers value most (e.g., easy ordering, product quality, timely delivery) and identify recurring pain points (e.g., missing items, packaging issues, delivery behavior). By leveraging text analysis and categorization of feedback, the project provides actionable insights that can help businesses improve service quality, enhance customer experience, and boost retention.\n",
    "\n",
    "\n",
    "* Project Published By ~ Ajay Borah ."
   ]
  },
  {
   "cell_type": "markdown",
   "id": "fb632121",
   "metadata": {},
   "source": [
    "### First, I performed data cleaning. After that, I solved all the questions related to this scenario, and the answers are provided after the cleaning process."
   ]
  },
  {
   "cell_type": "code",
   "execution_count": 1,
   "id": "bdb3f0b6",
   "metadata": {},
   "outputs": [],
   "source": [
    "## Import Usefull Libraries For Data Analysis\n",
    "\n",
    "import pandas as pd\n",
    "import numpy as np\n",
    "import seaborn as sns \n",
    "import matplotlib.pyplot as plt "
   ]
  },
  {
   "cell_type": "code",
   "execution_count": 2,
   "id": "017947f7",
   "metadata": {},
   "outputs": [
    {
     "data": {
      "text/html": [
       "<div>\n",
       "<style scoped>\n",
       "    .dataframe tbody tr th:only-of-type {\n",
       "        vertical-align: middle;\n",
       "    }\n",
       "\n",
       "    .dataframe tbody tr th {\n",
       "        vertical-align: top;\n",
       "    }\n",
       "\n",
       "    .dataframe thead th {\n",
       "        text-align: right;\n",
       "    }\n",
       "</style>\n",
       "<table border=\"1\" class=\"dataframe\">\n",
       "  <thead>\n",
       "    <tr style=\"text-align: right;\">\n",
       "      <th></th>\n",
       "      <th>Order ID</th>\n",
       "      <th>Customer ID</th>\n",
       "      <th>Platform</th>\n",
       "      <th>Order Date &amp; Time</th>\n",
       "      <th>Delivery Time (Minutes)</th>\n",
       "      <th>Product Category</th>\n",
       "      <th>Order Value (INR)</th>\n",
       "      <th>Customer Feedback</th>\n",
       "      <th>Service Rating</th>\n",
       "      <th>Delivery Delay</th>\n",
       "      <th>Refund Requested</th>\n",
       "    </tr>\n",
       "  </thead>\n",
       "  <tbody>\n",
       "    <tr>\n",
       "      <th>0</th>\n",
       "      <td>ORD000001</td>\n",
       "      <td>CUST2824</td>\n",
       "      <td>JioMart</td>\n",
       "      <td>19:29.5</td>\n",
       "      <td>30</td>\n",
       "      <td>Fruits &amp; Vegetables</td>\n",
       "      <td>382</td>\n",
       "      <td>Fast delivery, great service!</td>\n",
       "      <td>5</td>\n",
       "      <td>No</td>\n",
       "      <td>No</td>\n",
       "    </tr>\n",
       "    <tr>\n",
       "      <th>1</th>\n",
       "      <td>ORD000002</td>\n",
       "      <td>CUST1409</td>\n",
       "      <td>Blinkit</td>\n",
       "      <td>54:29.5</td>\n",
       "      <td>16</td>\n",
       "      <td>Dairy</td>\n",
       "      <td>279</td>\n",
       "      <td>Quick and reliable!</td>\n",
       "      <td>5</td>\n",
       "      <td>No</td>\n",
       "      <td>No</td>\n",
       "    </tr>\n",
       "    <tr>\n",
       "      <th>2</th>\n",
       "      <td>ORD000003</td>\n",
       "      <td>CUST5506</td>\n",
       "      <td>JioMart</td>\n",
       "      <td>21:29.5</td>\n",
       "      <td>25</td>\n",
       "      <td>Beverages</td>\n",
       "      <td>599</td>\n",
       "      <td>Items missing from order.</td>\n",
       "      <td>2</td>\n",
       "      <td>No</td>\n",
       "      <td>Yes</td>\n",
       "    </tr>\n",
       "    <tr>\n",
       "      <th>3</th>\n",
       "      <td>ORD000004</td>\n",
       "      <td>CUST5012</td>\n",
       "      <td>JioMart</td>\n",
       "      <td>19:29.5</td>\n",
       "      <td>42</td>\n",
       "      <td>Beverages</td>\n",
       "      <td>946</td>\n",
       "      <td>Items missing from order.</td>\n",
       "      <td>2</td>\n",
       "      <td>Yes</td>\n",
       "      <td>Yes</td>\n",
       "    </tr>\n",
       "    <tr>\n",
       "      <th>4</th>\n",
       "      <td>ORD000005</td>\n",
       "      <td>CUST4657</td>\n",
       "      <td>Blinkit</td>\n",
       "      <td>49:29.5</td>\n",
       "      <td>30</td>\n",
       "      <td>Beverages</td>\n",
       "      <td>334</td>\n",
       "      <td>Fast delivery, great service!</td>\n",
       "      <td>5</td>\n",
       "      <td>No</td>\n",
       "      <td>No</td>\n",
       "    </tr>\n",
       "  </tbody>\n",
       "</table>\n",
       "</div>"
      ],
      "text/plain": [
       "    Order ID Customer ID Platform Order Date & Time  Delivery Time (Minutes)  \\\n",
       "0  ORD000001    CUST2824  JioMart           19:29.5                       30   \n",
       "1  ORD000002    CUST1409  Blinkit           54:29.5                       16   \n",
       "2  ORD000003    CUST5506  JioMart           21:29.5                       25   \n",
       "3  ORD000004    CUST5012  JioMart           19:29.5                       42   \n",
       "4  ORD000005    CUST4657  Blinkit           49:29.5                       30   \n",
       "\n",
       "      Product Category  Order Value (INR)              Customer Feedback  \\\n",
       "0  Fruits & Vegetables                382  Fast delivery, great service!   \n",
       "1                Dairy                279            Quick and reliable!   \n",
       "2            Beverages                599      Items missing from order.   \n",
       "3            Beverages                946      Items missing from order.   \n",
       "4            Beverages                334  Fast delivery, great service!   \n",
       "\n",
       "   Service Rating Delivery Delay Refund Requested  \n",
       "0               5             No               No  \n",
       "1               5             No               No  \n",
       "2               2             No              Yes  \n",
       "3               2            Yes              Yes  \n",
       "4               5             No               No  "
      ]
     },
     "execution_count": 2,
     "metadata": {},
     "output_type": "execute_result"
    }
   ],
   "source": [
    "## Load Your Dataset Using Pandas \n",
    "\n",
    "data = pd.read_csv(r\"C:\\Users\\Lenovo\\Downloads\\Ecommerce_Delivery_Analytics_New.csv\")\n",
    "data.head(5)"
   ]
  },
  {
   "cell_type": "code",
   "execution_count": 7,
   "id": "3577ae54",
   "metadata": {},
   "outputs": [
    {
     "name": "stdout",
     "output_type": "stream",
     "text": [
      "<class 'pandas.core.frame.DataFrame'>\n",
      "RangeIndex: 100000 entries, 0 to 99999\n",
      "Data columns (total 11 columns):\n",
      " #   Column                   Non-Null Count   Dtype \n",
      "---  ------                   --------------   ----- \n",
      " 0   Order ID                 100000 non-null  object\n",
      " 1   Customer ID              100000 non-null  object\n",
      " 2   Platform                 100000 non-null  object\n",
      " 3   Order Date & Time        100000 non-null  object\n",
      " 4   Delivery Time (Minutes)  100000 non-null  int64 \n",
      " 5   Product Category         100000 non-null  object\n",
      " 6   Order Value (INR)        100000 non-null  int64 \n",
      " 7   Customer Feedback        100000 non-null  object\n",
      " 8   Service Rating           100000 non-null  int64 \n",
      " 9   Delivery Delay           100000 non-null  object\n",
      " 10  Refund Requested         100000 non-null  object\n",
      "dtypes: int64(3), object(8)\n",
      "memory usage: 8.4+ MB\n"
     ]
    }
   ],
   "source": [
    "## Cheak data types each Column and Data Structure \n",
    "\n",
    "data.info()"
   ]
  },
  {
   "cell_type": "code",
   "execution_count": 11,
   "id": "921971d3",
   "metadata": {},
   "outputs": [
    {
     "data": {
      "text/html": [
       "<div>\n",
       "<style scoped>\n",
       "    .dataframe tbody tr th:only-of-type {\n",
       "        vertical-align: middle;\n",
       "    }\n",
       "\n",
       "    .dataframe tbody tr th {\n",
       "        vertical-align: top;\n",
       "    }\n",
       "\n",
       "    .dataframe thead th {\n",
       "        text-align: right;\n",
       "    }\n",
       "</style>\n",
       "<table border=\"1\" class=\"dataframe\">\n",
       "  <thead>\n",
       "    <tr style=\"text-align: right;\">\n",
       "      <th></th>\n",
       "      <th>Delivery Time (Minutes)</th>\n",
       "      <th>Order Value (INR)</th>\n",
       "      <th>Service Rating</th>\n",
       "    </tr>\n",
       "  </thead>\n",
       "  <tbody>\n",
       "    <tr>\n",
       "      <th>count</th>\n",
       "      <td>100000.000000</td>\n",
       "      <td>100000.000000</td>\n",
       "      <td>100000.000000</td>\n",
       "    </tr>\n",
       "    <tr>\n",
       "      <th>mean</th>\n",
       "      <td>29.536140</td>\n",
       "      <td>590.994400</td>\n",
       "      <td>3.240790</td>\n",
       "    </tr>\n",
       "    <tr>\n",
       "      <th>std</th>\n",
       "      <td>9.958933</td>\n",
       "      <td>417.409058</td>\n",
       "      <td>1.575962</td>\n",
       "    </tr>\n",
       "    <tr>\n",
       "      <th>min</th>\n",
       "      <td>5.000000</td>\n",
       "      <td>50.000000</td>\n",
       "      <td>1.000000</td>\n",
       "    </tr>\n",
       "    <tr>\n",
       "      <th>25%</th>\n",
       "      <td>23.000000</td>\n",
       "      <td>283.000000</td>\n",
       "      <td>2.000000</td>\n",
       "    </tr>\n",
       "    <tr>\n",
       "      <th>50%</th>\n",
       "      <td>30.000000</td>\n",
       "      <td>481.000000</td>\n",
       "      <td>3.000000</td>\n",
       "    </tr>\n",
       "    <tr>\n",
       "      <th>75%</th>\n",
       "      <td>36.000000</td>\n",
       "      <td>770.000000</td>\n",
       "      <td>5.000000</td>\n",
       "    </tr>\n",
       "    <tr>\n",
       "      <th>max</th>\n",
       "      <td>76.000000</td>\n",
       "      <td>2000.000000</td>\n",
       "      <td>5.000000</td>\n",
       "    </tr>\n",
       "  </tbody>\n",
       "</table>\n",
       "</div>"
      ],
      "text/plain": [
       "       Delivery Time (Minutes)  Order Value (INR)  Service Rating\n",
       "count            100000.000000      100000.000000   100000.000000\n",
       "mean                 29.536140         590.994400        3.240790\n",
       "std                   9.958933         417.409058        1.575962\n",
       "min                   5.000000          50.000000        1.000000\n",
       "25%                  23.000000         283.000000        2.000000\n",
       "50%                  30.000000         481.000000        3.000000\n",
       "75%                  36.000000         770.000000        5.000000\n",
       "max                  76.000000        2000.000000        5.000000"
      ]
     },
     "execution_count": 11,
     "metadata": {},
     "output_type": "execute_result"
    }
   ],
   "source": [
    "## Summurize Descraptive Statastic\n",
    "\n",
    "data.describe()"
   ]
  },
  {
   "cell_type": "code",
   "execution_count": 17,
   "id": "40405efe",
   "metadata": {},
   "outputs": [
    {
     "data": {
      "text/plain": [
       "(100000, 11)"
      ]
     },
     "execution_count": 17,
     "metadata": {},
     "output_type": "execute_result"
    }
   ],
   "source": [
    "### List Down All The Columns Name\n",
    "\n",
    "data.shape"
   ]
  },
  {
   "cell_type": "code",
   "execution_count": 10,
   "id": "077bd011",
   "metadata": {},
   "outputs": [
    {
     "name": "stdout",
     "output_type": "stream",
     "text": [
      "<class 'pandas.core.frame.DataFrame'>\n",
      "RangeIndex: 100000 entries, 0 to 99999\n",
      "Data columns (total 11 columns):\n",
      " #   Column                   Non-Null Count   Dtype \n",
      "---  ------                   --------------   ----- \n",
      " 0   Order ID                 100000 non-null  object\n",
      " 1   Customer ID              100000 non-null  object\n",
      " 2   Platform                 100000 non-null  object\n",
      " 3   Order Date & Time        100000 non-null  object\n",
      " 4   Delivery Time (Minutes)  100000 non-null  int64 \n",
      " 5   Product Category         100000 non-null  object\n",
      " 6   Order Value (INR)        100000 non-null  int64 \n",
      " 7   Customer Feedback        100000 non-null  object\n",
      " 8   Service Rating           100000 non-null  int64 \n",
      " 9   Delivery Delay           100000 non-null  object\n",
      " 10  Refund Requested         100000 non-null  object\n",
      "dtypes: int64(3), object(8)\n",
      "memory usage: 8.4+ MB\n"
     ]
    }
   ],
   "source": [
    "data.info()\n",
    "\n"
   ]
  },
  {
   "cell_type": "code",
   "execution_count": 23,
   "id": "2aa518ea",
   "metadata": {},
   "outputs": [],
   "source": [
    "## We need to add a new column for better understanding because the Order Date & Time column is not properly defined with the correct datatype.\n",
    "\n",
    "data[\"Order_Time\"] = pd.to_datetime(data[\"Order Date & Time\"], format=\"%H:%M.%S\", errors=\"coerce\").dt.time\n"
   ]
  },
  {
   "cell_type": "code",
   "execution_count": 13,
   "id": "e761b1b6",
   "metadata": {},
   "outputs": [
    {
     "data": {
      "text/plain": [
       "Order ID                       0\n",
       "Customer ID                    0\n",
       "Platform                       0\n",
       "Order Date & Time              0\n",
       "Delivery Time (Minutes)        0\n",
       "Product Category               0\n",
       "Order Value (INR)              0\n",
       "Customer Feedback              0\n",
       "Service Rating                 0\n",
       "Delivery Delay                 0\n",
       "Refund Requested               0\n",
       "Order_Time                 60089\n",
       "dtype: int64"
      ]
     },
     "execution_count": 13,
     "metadata": {},
     "output_type": "execute_result"
    }
   ],
   "source": [
    "## Missing Values In The Dataset \n",
    "\n",
    "data.isnull().sum()"
   ]
  },
  {
   "cell_type": "code",
   "execution_count": 14,
   "id": "b6b10d33",
   "metadata": {},
   "outputs": [
    {
     "data": {
      "text/plain": [
       "Order ID                     0.00\n",
       "Customer ID                  0.00\n",
       "Platform                     0.00\n",
       "Order Date & Time            0.00\n",
       "Delivery Time (Minutes)      0.00\n",
       "Product Category             0.00\n",
       "Order Value (INR)            0.00\n",
       "Customer Feedback            0.00\n",
       "Service Rating               0.00\n",
       "Delivery Delay               0.00\n",
       "Refund Requested             0.00\n",
       "Order_Time                 600.89\n",
       "dtype: float64"
      ]
     },
     "execution_count": 14,
     "metadata": {},
     "output_type": "execute_result"
    }
   ],
   "source": [
    "data.isnull().sum() /100"
   ]
  },
  {
   "cell_type": "code",
   "execution_count": 15,
   "id": "fc3b1e32",
   "metadata": {},
   "outputs": [
    {
     "data": {
      "text/plain": [
       "<Axes: ylabel='Count'>"
      ]
     },
     "execution_count": 15,
     "metadata": {},
     "output_type": "execute_result"
    },
    {
     "data": {
      "image/png": "[encoded data removed]",
      "text/plain": [
       "<Figure size 640x480 with 1 Axes>"
      ]
     },
     "metadata": {},
     "output_type": "display_data"
    }
   ],
   "source": [
    "sns.histplot(data.isnull(),cbar=False)"
   ]
  },
  {
   "cell_type": "code",
   "execution_count": null,
   "id": "9510fc47",
   "metadata": {},
   "outputs": [
    {
     "name": "stderr",
     "output_type": "stream",
     "text": [
      "C:\\Users\\Lenovo\\AppData\\Local\\Temp\\ipykernel_26576\\1887780725.py:1: FutureWarning: A value is trying to be set on a copy of a DataFrame or Series through chained assignment using an inplace method.\n",
      "The behavior will change in pandas 3.0. This inplace method will never work because the intermediate object on which we are setting values always behaves as a copy.\n",
      "\n",
      "For example, when doing 'df[col].method(value, inplace=True)', try using 'df.method({col: value}, inplace=True)' or df[col] = df[col].method(value) instead, to perform the operation inplace on the original object.\n",
      "\n",
      "\n",
      "  data[\"Order_Time\"].fillna(data[\"Order_Time\"].mode()[0],inplace=True)\n"
     ]
    },
    {
     "data": {
      "text/plain": [
       "Order ID                   0\n",
       "Customer ID                0\n",
       "Platform                   0\n",
       "Order Date & Time          0\n",
       "Delivery Time (Minutes)    0\n",
       "Product Category           0\n",
       "Order Value (INR)          0\n",
       "Customer Feedback          0\n",
       "Service Rating             0\n",
       "Delivery Delay             0\n",
       "Refund Requested           0\n",
       "Order_Time                 0\n",
       "dtype: int64"
      ]
     },
     "execution_count": 16,
     "metadata": {},
     "output_type": "execute_result"
    }
   ],
   "source": [
    "### Fill Missing Values help to mode \n",
    "\n",
    "data[\"Order_Time\"].fillna(data[\"Order_Time\"].mode()[0],inplace=True)\n",
    "data.isnull().sum()"
   ]
  },
  {
   "cell_type": "markdown",
   "id": "bcfb1465",
   "metadata": {},
   "source": [
    "## 1. Total Order Value Each Product Category\n",
    "\n"
   ]
  },
  {
   "cell_type": "code",
   "execution_count": 105,
   "id": "1490ad14",
   "metadata": {},
   "outputs": [
    {
     "data": {
      "text/plain": [
       "Product Category\n",
       "Personal Care          17395601\n",
       "Grocery                14194055\n",
       "Beverages               9086669\n",
       "Dairy                   7610522\n",
       "Fruits & Vegetables     6246517\n",
       "Snacks                  4566076\n",
       "Name: Order Value (INR), dtype: int64"
      ]
     },
     "execution_count": 105,
     "metadata": {},
     "output_type": "execute_result"
    }
   ],
   "source": [
    "data.groupby(\"Product Category\")[\"Order Value (INR)\"].sum().sort_values(ascending=False)"
   ]
  },
  {
   "cell_type": "code",
   "execution_count": 17,
   "id": "98689a14",
   "metadata": {},
   "outputs": [
    {
     "name": "stderr",
     "output_type": "stream",
     "text": [
      "C:\\Users\\Lenovo\\AppData\\Local\\Temp\\ipykernel_26576\\3500016660.py:2: FutureWarning: \n",
      "\n",
      "Passing `palette` without assigning `hue` is deprecated and will be removed in v0.14.0. Assign the `x` variable to `hue` and set `legend=False` for the same effect.\n",
      "\n",
      "  sns.barplot(data=data,x=\"Product Category\",y=\"Order Value (INR)\",palette=\"rainbow\")\n"
     ]
    },
    {
     "data": {
      "image/png": "[encoded data removed]",
      "text/plain": [
       "<Figure size 640x480 with 1 Axes>"
      ]
     },
     "metadata": {},
     "output_type": "display_data"
    }
   ],
   "source": [
    "plt.Figure(figsize=(6,10))\n",
    "sns.barplot(data=data,x=\"Product Category\",y=\"Order Value (INR)\",palette=\"rainbow\")\n",
    "plt.xticks(rotation = 90, fontsize =10 )\n",
    "plt.tight_layout()"
   ]
  },
  {
   "cell_type": "markdown",
   "id": "07933e39",
   "metadata": {},
   "source": [
    "\n",
    "\n",
    "## Insight:\n",
    "\n",
    "* Personal Care products generate the highest sales value in your dataset.\n",
    "\n",
    "* Snacks contribute the least order value compared to other categories.\n",
    "\n",
    "* Together, these categories form the major revenue drivers for the business."
   ]
  },
  {
   "cell_type": "markdown",
   "id": "c6343c0c",
   "metadata": {},
   "source": [
    "## 2. Average Order Value by Product_Category\n"
   ]
  },
  {
   "cell_type": "code",
   "execution_count": 18,
   "id": "6aa8b4d1",
   "metadata": {},
   "outputs": [
    {
     "data": {
      "text/plain": [
       "np.float64(590.9944)"
      ]
     },
     "execution_count": 18,
     "metadata": {},
     "output_type": "execute_result"
    }
   ],
   "source": [
    "# Total Order Value Average\n",
    "\n",
    "avg = data[\"Order Value (INR)\"].mean()\n",
    "avg"
   ]
  },
  {
   "cell_type": "code",
   "execution_count": 19,
   "id": "98412ab0",
   "metadata": {},
   "outputs": [
    {
     "data": {
      "text/plain": [
       "Product Category\n",
       "Beverages               549.508285\n",
       "Dairy                   451.475470\n",
       "Fruits & Vegetables     375.572210\n",
       "Grocery                 848.064468\n",
       "Personal Care          1052.174499\n",
       "Snacks                  273.335887\n",
       "Name: Order Value (INR), dtype: float64"
      ]
     },
     "execution_count": 19,
     "metadata": {},
     "output_type": "execute_result"
    }
   ],
   "source": [
    "## # Total Order Value Average Each Product Category \n",
    "\n",
    "data.groupby(\"Product Category\")[\"Order Value (INR)\"].mean()\n"
   ]
  },
  {
   "cell_type": "markdown",
   "id": "bb32eeee",
   "metadata": {},
   "source": [
    "* Among all product categories, Personal Care brings in the most money (highest order value).\n",
    "\n",
    "* Snacks bring in the least money (lowest order value).\n",
    "\n",
    "* All these categories combined make up the company’s main revenue sources."
   ]
  },
  {
   "cell_type": "markdown",
   "id": "a3883be0",
   "metadata": {},
   "source": [
    "## 3. Correlation between Delivery_Time and Rating\n"
   ]
  },
  {
   "cell_type": "code",
   "execution_count": 20,
   "id": "264a5ea1",
   "metadata": {},
   "outputs": [
    {
     "data": {
      "text/html": [
       "<div>\n",
       "<style scoped>\n",
       "    .dataframe tbody tr th:only-of-type {\n",
       "        vertical-align: middle;\n",
       "    }\n",
       "\n",
       "    .dataframe tbody tr th {\n",
       "        vertical-align: top;\n",
       "    }\n",
       "\n",
       "    .dataframe thead th {\n",
       "        text-align: right;\n",
       "    }\n",
       "</style>\n",
       "<table border=\"1\" class=\"dataframe\">\n",
       "  <thead>\n",
       "    <tr style=\"text-align: right;\">\n",
       "      <th></th>\n",
       "      <th>Order ID</th>\n",
       "      <th>Customer ID</th>\n",
       "      <th>Platform</th>\n",
       "      <th>Order Date &amp; Time</th>\n",
       "      <th>Delivery Time (Minutes)</th>\n",
       "      <th>Product Category</th>\n",
       "      <th>Order Value (INR)</th>\n",
       "      <th>Customer Feedback</th>\n",
       "      <th>Service Rating</th>\n",
       "      <th>Delivery Delay</th>\n",
       "      <th>Refund Requested</th>\n",
       "      <th>Order_Time</th>\n",
       "    </tr>\n",
       "  </thead>\n",
       "  <tbody>\n",
       "    <tr>\n",
       "      <th>0</th>\n",
       "      <td>ORD000001</td>\n",
       "      <td>CUST2824</td>\n",
       "      <td>JioMart</td>\n",
       "      <td>19:29.5</td>\n",
       "      <td>30</td>\n",
       "      <td>Fruits &amp; Vegetables</td>\n",
       "      <td>382</td>\n",
       "      <td>Fast delivery, great service!</td>\n",
       "      <td>5</td>\n",
       "      <td>No</td>\n",
       "      <td>No</td>\n",
       "      <td>19:29:05</td>\n",
       "    </tr>\n",
       "  </tbody>\n",
       "</table>\n",
       "</div>"
      ],
      "text/plain": [
       "    Order ID Customer ID Platform Order Date & Time  Delivery Time (Minutes)  \\\n",
       "0  ORD000001    CUST2824  JioMart           19:29.5                       30   \n",
       "\n",
       "      Product Category  Order Value (INR)              Customer Feedback  \\\n",
       "0  Fruits & Vegetables                382  Fast delivery, great service!   \n",
       "\n",
       "   Service Rating Delivery Delay Refund Requested Order_Time  \n",
       "0               5             No               No   19:29:05  "
      ]
     },
     "execution_count": 20,
     "metadata": {},
     "output_type": "execute_result"
    }
   ],
   "source": [
    "data.head(1)"
   ]
  },
  {
   "cell_type": "code",
   "execution_count": null,
   "id": "0d62500d",
   "metadata": {},
   "outputs": [],
   "source": []
  },
  {
   "cell_type": "code",
   "execution_count": 21,
   "id": "5f7cd809",
   "metadata": {},
   "outputs": [
    {
     "data": {
      "text/html": [
       "<div>\n",
       "<style scoped>\n",
       "    .dataframe tbody tr th:only-of-type {\n",
       "        vertical-align: middle;\n",
       "    }\n",
       "\n",
       "    .dataframe tbody tr th {\n",
       "        vertical-align: top;\n",
       "    }\n",
       "\n",
       "    .dataframe thead th {\n",
       "        text-align: right;\n",
       "    }\n",
       "</style>\n",
       "<table border=\"1\" class=\"dataframe\">\n",
       "  <thead>\n",
       "    <tr style=\"text-align: right;\">\n",
       "      <th></th>\n",
       "      <th>Delivery Time (Minutes)</th>\n",
       "      <th>Service Rating</th>\n",
       "    </tr>\n",
       "  </thead>\n",
       "  <tbody>\n",
       "    <tr>\n",
       "      <th>Delivery Time (Minutes)</th>\n",
       "      <td>1.000000</td>\n",
       "      <td>0.000136</td>\n",
       "    </tr>\n",
       "    <tr>\n",
       "      <th>Service Rating</th>\n",
       "      <td>0.000136</td>\n",
       "      <td>1.000000</td>\n",
       "    </tr>\n",
       "  </tbody>\n",
       "</table>\n",
       "</div>"
      ],
      "text/plain": [
       "                         Delivery Time (Minutes)  Service Rating\n",
       "Delivery Time (Minutes)                 1.000000        0.000136\n",
       "Service Rating                          0.000136        1.000000"
      ]
     },
     "execution_count": 21,
     "metadata": {},
     "output_type": "execute_result"
    }
   ],
   "source": [
    "Corr = data[[\"Delivery Time (Minutes)\",\"Service Rating\"]].corr()\n",
    "Corr"
   ]
  },
  {
   "cell_type": "code",
   "execution_count": 22,
   "id": "91a82d7d",
   "metadata": {},
   "outputs": [
    {
     "data": {
      "text/plain": [
       "<Axes: >"
      ]
     },
     "execution_count": 22,
     "metadata": {},
     "output_type": "execute_result"
    },
    {
     "data": {
      "image/png": "[encoded data removed]",
      "text/plain": [
       "<Figure size 640x480 with 2 Axes>"
      ]
     },
     "metadata": {},
     "output_type": "display_data"
    }
   ],
   "source": [
    "sns.heatmap(Corr,annot=True)"
   ]
  },
  {
   "cell_type": "markdown",
   "id": "2a4260d3",
   "metadata": {},
   "source": [
    "## Insights \n",
    "\n",
    "* Correlation = 0.000136 → This value is extremely close to 0.\n",
    "\n",
    "* That means there is no meaningful relationship between how long delivery takes and the rating customers give for the service."
   ]
  },
  {
   "cell_type": "markdown",
   "id": "de697a97",
   "metadata": {},
   "source": [
    "## 4. Which category received lowest average rating?\n"
   ]
  },
  {
   "cell_type": "code",
   "execution_count": 81,
   "id": "d9530e74",
   "metadata": {},
   "outputs": [
    {
     "data": {
      "text/plain": [
       "Product Category\n",
       "Grocery    3.217841\n",
       "Name: Service Rating, dtype: float64"
      ]
     },
     "execution_count": 81,
     "metadata": {},
     "output_type": "execute_result"
    }
   ],
   "source": [
    "Lowest_rating = data.groupby(\"Product Category\")[\"Service Rating\"].mean().sort_values(ascending=True).head(1)\n",
    "Lowest_rating"
   ]
  },
  {
   "cell_type": "code",
   "execution_count": 80,
   "id": "9b1c4814",
   "metadata": {},
   "outputs": [
    {
     "name": "stderr",
     "output_type": "stream",
     "text": [
      "C:\\Users\\Lenovo\\AppData\\Local\\Temp\\ipykernel_23224\\953294400.py:1: FutureWarning: \n",
      "\n",
      "Passing `palette` without assigning `hue` is deprecated and will be removed in v0.14.0. Assign the `x` variable to `hue` and set `legend=False` for the same effect.\n",
      "\n",
      "  sns.catplot(data=data,x=\"Product Category\",y=\"Service Rating\",kind=\"bar\",estimator=\"mean\",palette=\"rainbow\")\n"
     ]
    },
    {
     "data": {
      "image/png": "[encoded data removed]",
      "text/plain": [
       "<Figure size 500x500 with 1 Axes>"
      ]
     },
     "metadata": {},
     "output_type": "display_data"
    }
   ],
   "source": [
    "\n",
    "sns.catplot(data=data,x=\"Product Category\",y=\"Service Rating\",kind=\"bar\",estimator=\"mean\",palette=\"rainbow\")\n",
    "plt.xticks(rotation = 90, fontsize =10 )\n",
    "plt.tight_layout()"
   ]
  },
  {
   "cell_type": "markdown",
   "id": "f2aafafa",
   "metadata": {},
   "source": [
    "* Snacks has the lowest service rating (2.9 out of 5)."
   ]
  },
  {
   "cell_type": "markdown",
   "id": "98b0d6fe",
   "metadata": {},
   "source": [
    "## 5. Delivery delays mean and std deviation\n"
   ]
  },
  {
   "cell_type": "code",
   "execution_count": 94,
   "id": "833ede30",
   "metadata": {},
   "outputs": [
    {
     "name": "stdout",
     "output_type": "stream",
     "text": [
      "Mean Delivery Delay 29.53614 Minutes\n",
      "Std Dev of Delivery Delay: 9.958932960104562 Minutes\n"
     ]
    }
   ],
   "source": [
    "mean_delay = data[\"Delivery Time (Minutes)\"].mean()\n",
    "std_delay = data[\"Delivery Time (Minutes)\"].std()\n",
    "\n",
    "print(f\"Mean Delivery Delay {mean_delay} Minutes\")\n",
    "print(f\"Std Dev of Delivery Delay: {std_delay} Minutes\")\n"
   ]
  },
  {
   "cell_type": "markdown",
   "id": "6f65c02a",
   "metadata": {},
   "source": [
    "## Insight \n",
    "\n",
    "* Most deliveries are delayed by 20 to 40 minutes "
   ]
  },
  {
   "cell_type": "markdown",
   "id": "f56c5f13",
   "metadata": {},
   "source": [
    "##  --------------------------- Additional Analysis ---------------------------------"
   ]
  },
  {
   "cell_type": "code",
   "execution_count": 5,
   "id": "1805b18a",
   "metadata": {},
   "outputs": [
    {
     "data": {
      "text/html": [
       "<div>\n",
       "<style scoped>\n",
       "    .dataframe tbody tr th:only-of-type {\n",
       "        vertical-align: middle;\n",
       "    }\n",
       "\n",
       "    .dataframe tbody tr th {\n",
       "        vertical-align: top;\n",
       "    }\n",
       "\n",
       "    .dataframe thead th {\n",
       "        text-align: right;\n",
       "    }\n",
       "</style>\n",
       "<table border=\"1\" class=\"dataframe\">\n",
       "  <thead>\n",
       "    <tr style=\"text-align: right;\">\n",
       "      <th></th>\n",
       "      <th>Order ID</th>\n",
       "      <th>Customer ID</th>\n",
       "      <th>Platform</th>\n",
       "      <th>Order Date &amp; Time</th>\n",
       "      <th>Delivery Time (Minutes)</th>\n",
       "      <th>Product Category</th>\n",
       "      <th>Order Value (INR)</th>\n",
       "      <th>Customer Feedback</th>\n",
       "      <th>Service Rating</th>\n",
       "      <th>Delivery Delay</th>\n",
       "      <th>Refund Requested</th>\n",
       "    </tr>\n",
       "  </thead>\n",
       "  <tbody>\n",
       "    <tr>\n",
       "      <th>0</th>\n",
       "      <td>ORD000001</td>\n",
       "      <td>CUST2824</td>\n",
       "      <td>JioMart</td>\n",
       "      <td>19:29.5</td>\n",
       "      <td>30</td>\n",
       "      <td>Fruits &amp; Vegetables</td>\n",
       "      <td>382</td>\n",
       "      <td>Fast delivery, great service!</td>\n",
       "      <td>5</td>\n",
       "      <td>No</td>\n",
       "      <td>No</td>\n",
       "    </tr>\n",
       "    <tr>\n",
       "      <th>1</th>\n",
       "      <td>ORD000002</td>\n",
       "      <td>CUST1409</td>\n",
       "      <td>Blinkit</td>\n",
       "      <td>54:29.5</td>\n",
       "      <td>16</td>\n",
       "      <td>Dairy</td>\n",
       "      <td>279</td>\n",
       "      <td>Quick and reliable!</td>\n",
       "      <td>5</td>\n",
       "      <td>No</td>\n",
       "      <td>No</td>\n",
       "    </tr>\n",
       "    <tr>\n",
       "      <th>2</th>\n",
       "      <td>ORD000003</td>\n",
       "      <td>CUST5506</td>\n",
       "      <td>JioMart</td>\n",
       "      <td>21:29.5</td>\n",
       "      <td>25</td>\n",
       "      <td>Beverages</td>\n",
       "      <td>599</td>\n",
       "      <td>Items missing from order.</td>\n",
       "      <td>2</td>\n",
       "      <td>No</td>\n",
       "      <td>Yes</td>\n",
       "    </tr>\n",
       "    <tr>\n",
       "      <th>3</th>\n",
       "      <td>ORD000004</td>\n",
       "      <td>CUST5012</td>\n",
       "      <td>JioMart</td>\n",
       "      <td>19:29.5</td>\n",
       "      <td>42</td>\n",
       "      <td>Beverages</td>\n",
       "      <td>946</td>\n",
       "      <td>Items missing from order.</td>\n",
       "      <td>2</td>\n",
       "      <td>Yes</td>\n",
       "      <td>Yes</td>\n",
       "    </tr>\n",
       "    <tr>\n",
       "      <th>4</th>\n",
       "      <td>ORD000005</td>\n",
       "      <td>CUST4657</td>\n",
       "      <td>Blinkit</td>\n",
       "      <td>49:29.5</td>\n",
       "      <td>30</td>\n",
       "      <td>Beverages</td>\n",
       "      <td>334</td>\n",
       "      <td>Fast delivery, great service!</td>\n",
       "      <td>5</td>\n",
       "      <td>No</td>\n",
       "      <td>No</td>\n",
       "    </tr>\n",
       "    <tr>\n",
       "      <th>...</th>\n",
       "      <td>...</td>\n",
       "      <td>...</td>\n",
       "      <td>...</td>\n",
       "      <td>...</td>\n",
       "      <td>...</td>\n",
       "      <td>...</td>\n",
       "      <td>...</td>\n",
       "      <td>...</td>\n",
       "      <td>...</td>\n",
       "      <td>...</td>\n",
       "      <td>...</td>\n",
       "    </tr>\n",
       "    <tr>\n",
       "      <th>99995</th>\n",
       "      <td>ORD099996</td>\n",
       "      <td>CUST5324</td>\n",
       "      <td>JioMart</td>\n",
       "      <td>49:29.5</td>\n",
       "      <td>24</td>\n",
       "      <td>Dairy</td>\n",
       "      <td>289</td>\n",
       "      <td>Packaging could be better.</td>\n",
       "      <td>3</td>\n",
       "      <td>No</td>\n",
       "      <td>No</td>\n",
       "    </tr>\n",
       "    <tr>\n",
       "      <th>99996</th>\n",
       "      <td>ORD099997</td>\n",
       "      <td>CUST1677</td>\n",
       "      <td>JioMart</td>\n",
       "      <td>18:29.5</td>\n",
       "      <td>19</td>\n",
       "      <td>Snacks</td>\n",
       "      <td>322</td>\n",
       "      <td>Good quality products.</td>\n",
       "      <td>4</td>\n",
       "      <td>No</td>\n",
       "      <td>No</td>\n",
       "    </tr>\n",
       "    <tr>\n",
       "      <th>99997</th>\n",
       "      <td>ORD099998</td>\n",
       "      <td>CUST8198</td>\n",
       "      <td>JioMart</td>\n",
       "      <td>27:29.5</td>\n",
       "      <td>41</td>\n",
       "      <td>Dairy</td>\n",
       "      <td>135</td>\n",
       "      <td>Fast delivery, great service!</td>\n",
       "      <td>5</td>\n",
       "      <td>Yes</td>\n",
       "      <td>No</td>\n",
       "    </tr>\n",
       "    <tr>\n",
       "      <th>99998</th>\n",
       "      <td>ORD099999</td>\n",
       "      <td>CUST9975</td>\n",
       "      <td>JioMart</td>\n",
       "      <td>14:29.5</td>\n",
       "      <td>31</td>\n",
       "      <td>Grocery</td>\n",
       "      <td>973</td>\n",
       "      <td>Quick and reliable!</td>\n",
       "      <td>5</td>\n",
       "      <td>No</td>\n",
       "      <td>No</td>\n",
       "    </tr>\n",
       "    <tr>\n",
       "      <th>99999</th>\n",
       "      <td>ORD100000</td>\n",
       "      <td>CUST3748</td>\n",
       "      <td>JioMart</td>\n",
       "      <td>41:29.5</td>\n",
       "      <td>34</td>\n",
       "      <td>Fruits &amp; Vegetables</td>\n",
       "      <td>453</td>\n",
       "      <td>Packaging could be better.</td>\n",
       "      <td>3</td>\n",
       "      <td>No</td>\n",
       "      <td>No</td>\n",
       "    </tr>\n",
       "  </tbody>\n",
       "</table>\n",
       "<p>100000 rows × 11 columns</p>\n",
       "</div>"
      ],
      "text/plain": [
       "        Order ID Customer ID Platform Order Date & Time  \\\n",
       "0      ORD000001    CUST2824  JioMart           19:29.5   \n",
       "1      ORD000002    CUST1409  Blinkit           54:29.5   \n",
       "2      ORD000003    CUST5506  JioMart           21:29.5   \n",
       "3      ORD000004    CUST5012  JioMart           19:29.5   \n",
       "4      ORD000005    CUST4657  Blinkit           49:29.5   \n",
       "...          ...         ...      ...               ...   \n",
       "99995  ORD099996    CUST5324  JioMart           49:29.5   \n",
       "99996  ORD099997    CUST1677  JioMart           18:29.5   \n",
       "99997  ORD099998    CUST8198  JioMart           27:29.5   \n",
       "99998  ORD099999    CUST9975  JioMart           14:29.5   \n",
       "99999  ORD100000    CUST3748  JioMart           41:29.5   \n",
       "\n",
       "       Delivery Time (Minutes)     Product Category  Order Value (INR)  \\\n",
       "0                           30  Fruits & Vegetables                382   \n",
       "1                           16                Dairy                279   \n",
       "2                           25            Beverages                599   \n",
       "3                           42            Beverages                946   \n",
       "4                           30            Beverages                334   \n",
       "...                        ...                  ...                ...   \n",
       "99995                       24                Dairy                289   \n",
       "99996                       19               Snacks                322   \n",
       "99997                       41                Dairy                135   \n",
       "99998                       31              Grocery                973   \n",
       "99999                       34  Fruits & Vegetables                453   \n",
       "\n",
       "                   Customer Feedback  Service Rating Delivery Delay  \\\n",
       "0      Fast delivery, great service!               5             No   \n",
       "1                Quick and reliable!               5             No   \n",
       "2          Items missing from order.               2             No   \n",
       "3          Items missing from order.               2            Yes   \n",
       "4      Fast delivery, great service!               5             No   \n",
       "...                              ...             ...            ...   \n",
       "99995     Packaging could be better.               3             No   \n",
       "99996         Good quality products.               4             No   \n",
       "99997  Fast delivery, great service!               5            Yes   \n",
       "99998            Quick and reliable!               5             No   \n",
       "99999     Packaging could be better.               3             No   \n",
       "\n",
       "      Refund Requested  \n",
       "0                   No  \n",
       "1                   No  \n",
       "2                  Yes  \n",
       "3                  Yes  \n",
       "4                   No  \n",
       "...                ...  \n",
       "99995               No  \n",
       "99996               No  \n",
       "99997               No  \n",
       "99998               No  \n",
       "99999               No  \n",
       "\n",
       "[100000 rows x 11 columns]"
      ]
     },
     "execution_count": 5,
     "metadata": {},
     "output_type": "execute_result"
    }
   ],
   "source": [
    "data"
   ]
  },
  {
   "cell_type": "code",
   "execution_count": 14,
   "id": "3bde0a69",
   "metadata": {},
   "outputs": [
    {
     "name": "stdout",
     "output_type": "stream",
     "text": [
      "           Platform  count\n",
      "0  Swiggy Instamart  33449\n",
      "1           Blinkit  33424\n",
      "2           JioMart  33127\n"
     ]
    }
   ],
   "source": [
    "rating_counts = data[\"Platform\"].value_counts().reset_index()\n",
    "print(rating_counts.head())\n",
    "\n",
    "rating_counts = data[\"Platform\"].value_counts().reset_index()\n",
    "rating_counts.columns = [\"Platform\", \"Count\"]\n"
   ]
  },
  {
   "cell_type": "code",
   "execution_count": 15,
   "id": "ec893dce",
   "metadata": {},
   "outputs": [
    {
     "data": {
      "image/png": "[encoded data removed]",
      "text/plain": [
       "<Figure size 600x600 with 1 Axes>"
      ]
     },
     "metadata": {},
     "output_type": "display_data"
    }
   ],
   "source": [
    "plt.figure(figsize=(6,6))\n",
    "plt.pie(\n",
    "    rating_counts[\"Count\"], \n",
    "    labels=rating_counts[\"Platform\"], \n",
    "    autopct='%1.1f%%', \n",
    "    startangle=90\n",
    ")\n",
    "plt.title(\"Platform Distribution\", fontsize=14)\n",
    "plt.show()\n"
   ]
  },
  {
   "cell_type": "markdown",
   "id": "bc36894b",
   "metadata": {},
   "source": [
    "## Insight:\n",
    "\n",
    "* The order counts are very close across all three platforms, suggesting healthy competition.\n",
    "\n",
    "* Swiggy Instamart has a slight edge with the most orders, but the difference is not significant.\n",
    "\n",
    "* This indicates that customers are fairly evenly distributed across these platforms."
   ]
  },
  {
   "cell_type": "code",
   "execution_count": null,
   "id": "1f79db04",
   "metadata": {},
   "outputs": [
    {
     "data": {
      "text/plain": [
       "Service Rating\n",
       "5    38688\n",
       "2    30552\n",
       "1    15267\n",
       "4     7789\n",
       "3     7704\n",
       "Name: count, dtype: int64"
      ]
     },
     "execution_count": 24,
     "metadata": {},
     "output_type": "execute_result"
    }
   ],
   "source": [
    "data[\"Service Rating\"].value_counts()"
   ]
  },
  {
   "cell_type": "code",
   "execution_count": null,
   "id": "2ad03d68",
   "metadata": {},
   "outputs": [
    {
     "name": "stderr",
     "output_type": "stream",
     "text": [
      "C:\\Users\\Lenovo\\AppData\\Local\\Temp\\ipykernel_26576\\3220484242.py:1: FutureWarning: \n",
      "\n",
      "Passing `palette` without assigning `hue` is deprecated and will be removed in v0.14.0. Assign the `x` variable to `hue` and set `legend=False` for the same effect.\n",
      "\n",
      "  sns.countplot(data=data,x=\"Service Rating\",palette=\"rainbow\")\n"
     ]
    },
    {
     "data": {
      "text/plain": [
       "Text(0.5, 1.0, 'Service Rating Distribution ')"
      ]
     },
     "execution_count": 28,
     "metadata": {},
     "output_type": "execute_result"
    },
    {
     "data": {
      "image/png": "[encoded data removed]",
      "text/plain": [
       "<Figure size 640x480 with 1 Axes>"
      ]
     },
     "metadata": {},
     "output_type": "display_data"
    }
   ],
   "source": [
    "sns.countplot(data=data,x=\"Service Rating\",palette=\"rainbow\")\n",
    "plt.title(\"Service Rating Distribution \")"
   ]
  },
  {
   "cell_type": "code",
   "execution_count": null,
   "id": "77615395",
   "metadata": {},
   "outputs": [
    {
     "data": {
      "text/plain": [
       "<Axes: xlabel='Platform', ylabel='percent'>"
      ]
     },
     "execution_count": 103,
     "metadata": {},
     "output_type": "execute_result"
    },
    {
     "data": {
      "image/png": "[encoded data removed]",
      "text/plain": [
       "<Figure size 640x480 with 1 Axes>"
      ]
     },
     "metadata": {},
     "output_type": "display_data"
    }
   ],
   "source": [
    "## percentage of each Service Rating per Platform\n",
    "\n",
    "sns.countplot(data=data,x=\"Platform\",hue = \"Service Rating\",stat=\"percent\",palette=\"rainbow\")"
   ]
  },
  {
   "cell_type": "code",
   "execution_count": 4,
   "id": "2aeacff0",
   "metadata": {},
   "outputs": [
    {
     "data": {
      "text/plain": [
       "Customer Feedback\n",
       "Easy to order, loved it!                      7791\n",
       "Good quality products.                        7789\n",
       "Excellent experience!                         7784\n",
       "Very satisfied with the service.              7740\n",
       "Wrong item delivered.                         7738\n",
       "Items missing from order.                     7737\n",
       "Fast delivery, great service!                 7715\n",
       "Packaging could be better.                    7704\n",
       "Quick and reliable!                           7658\n",
       "Delivery person was rude.                     7643\n",
       "Very late delivery, not happy.                7592\n",
       "Not fresh, disappointed.                      7580\n",
       "Horrible experience, never ordering again.    7529\n",
       "Name: count, dtype: int64"
      ]
     },
     "execution_count": 4,
     "metadata": {},
     "output_type": "execute_result"
    }
   ],
   "source": [
    "data[\"Customer Feedback\"].value_counts().sort_values(ascending=False)"
   ]
  },
  {
   "cell_type": "markdown",
   "id": "9d42c60e",
   "metadata": {},
   "source": [
    "## Insights from Customer Feedback\n",
    "\n",
    "* Most customers are happy with the service — they like easy ordering, good product quality, and quick delivery.\n",
    "\n",
    "* Positive comments like “Easy to order, loved it!” and “Excellent experience!” are the most common.\n",
    "\n",
    "* Customers also appreciate fast delivery and reliability.\n",
    "\n",
    "* Some problems appear often: wrong or missing items, late delivery, poor packaging, rude delivery staff, and products not fresh.\n",
    "\n",
    "## Conclusion\n",
    "\n",
    "* Overall, customers are mostly satisfied.\n",
    "But to improve further, the company should focus on reducing delivery issues, ensuring fresh products, improving packaging, and training delivery partners to behave politely."
   ]
  }
 ],
 "metadata": {
  "kernelspec": {
   "display_name": "Python 3",
   "language": "python",
   "name": "python3"
  },
  "language_info": {
   "codemirror_mode": {
    "name": "ipython",
    "version": 3
   },
   "file_extension": ".py",
   "mimetype": "text/x-python",
   "name": "python",
   "nbconvert_exporter": "python",
   "pygments_lexer": "ipython3",
   "version": "3.13.1"
  }
 },
 "nbformat": 4,
 "nbformat_minor": 5
}
